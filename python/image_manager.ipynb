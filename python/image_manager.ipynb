{
 "cells": [
  {
   "cell_type": "code",
   "execution_count": 3,
   "metadata": {},
   "outputs": [],
   "source": [
    "from PIL import Image\n",
    "import pandas as pd\n",
    "import json\n",
    "import os\n",
    "from os.path import join\n",
    "import json\n",
    "import torch\n",
    "from transformers import CLIPProcessor, CLIPModel"
   ]
  },
  {
   "cell_type": "code",
   "execution_count": 4,
   "metadata": {},
   "outputs": [],
   "source": [
    "root = \"../images/web\"\n",
    "img_folders = os.listdir(root)\n",
    "\n",
    "img_path = []\n",
    "for folder in img_folders:\n",
    "    img_names = os.listdir(join(root, folder))\n",
    "    for name in img_names:\n",
    "        img_path.append(join(root, folder, name))\n",
    "categories = [p.split(\"\\\\\")[-2] for p in img_path]\n",
    "details = [p.split(\"\\\\\")[-1].split(\".\")[0][:-1] for p in img_path]\n",
    "\n",
    "df = pd.DataFrame(dict(category=categories, detail=details, img_path=img_path))\n",
    "\n",
    "img_pairs_list = []\n",
    "for i in range(len(df)):\n",
    "    anchor = df.img_path[i]\n",
    "    img_pairs = [dict(anchor=anchor, pair=pair) for pair in df.img_path.values if anchor != pair]\n",
    "    img_pairs_list.append(img_pairs)\n",
    "    \n",
    "df[\"img_pairs\"] = img_pairs_list"
   ]
  },
  {
   "cell_type": "code",
   "execution_count": 5,
   "metadata": {},
   "outputs": [
    {
     "data": {
      "text/plain": [
       "''"
      ]
     },
     "execution_count": 5,
     "metadata": {},
     "output_type": "execute_result"
    }
   ],
   "source": [
    "image_processor = CLIPProcessor.from_pretrained(\"openai/clip-vit-base-patch16\").image_processor\n",
    "model = CLIPModel.from_pretrained(\"openai/clip-vit-base-patch16\").vision_model\n",
    "model.eval()\n",
    ","
   ]
  },
  {
   "cell_type": "code",
   "execution_count": 6,
   "metadata": {},
   "outputs": [],
   "source": [
    "images = []\n",
    "for i in range(len(df)):\n",
    "    x = Image.open(df.img_path[i]).convert(\"RGB\")\n",
    "    x = image_processor(x, return_tensors=\"pt\").pixel_values[0]\n",
    "    images.append(x[None,:])\n",
    "images = torch.cat(images, dim=0)"
   ]
  },
  {
   "cell_type": "code",
   "execution_count": 7,
   "metadata": {},
   "outputs": [],
   "source": [
    "embeds = model.forward(images).last_hidden_state[:,0,:]\n",
    "embeds = embeds / embeds.norm(dim=-1, keepdim=True)\n",
    "\n",
    "sim = embeds @ embeds.T\n",
    "sim_ = sim.view(-1)[sim.view(-1) < 0.999].view(sim.size(0), -1).tolist()"
   ]
  },
  {
   "cell_type": "code",
   "execution_count": 8,
   "metadata": {},
   "outputs": [],
   "source": [
    "img_pairs = list(df.img_pairs.values)\n",
    "df.img_pairs = [[dict(anchor=pair_dict[\"anchor\"], pair=pair_dict[\"pair\"], score=str(score)) for pair_dict, score in zip(img_pairs[i], sim_[i])] for i in range(len(img_pairs))]"
   ]
  },
  {
   "cell_type": "code",
   "execution_count": 9,
   "metadata": {},
   "outputs": [],
   "source": [
    "img_pairs = list(df.img_pairs.values)\n",
    "img_pairs = sum(img_pairs, [])"
   ]
  },
  {
   "cell_type": "code",
   "execution_count": 10,
   "metadata": {},
   "outputs": [
    {
     "data": {
      "text/html": [
       "<div>\n",
       "<style scoped>\n",
       "    .dataframe tbody tr th:only-of-type {\n",
       "        vertical-align: middle;\n",
       "    }\n",
       "\n",
       "    .dataframe tbody tr th {\n",
       "        vertical-align: top;\n",
       "    }\n",
       "\n",
       "    .dataframe thead th {\n",
       "        text-align: right;\n",
       "    }\n",
       "</style>\n",
       "<table border=\"1\" class=\"dataframe\">\n",
       "  <thead>\n",
       "    <tr style=\"text-align: right;\">\n",
       "      <th></th>\n",
       "      <th>data</th>\n",
       "    </tr>\n",
       "  </thead>\n",
       "  <tbody>\n",
       "    <tr>\n",
       "      <th>0</th>\n",
       "      <td>{'anchor': '../images/web\\cat\\persian1.jpg', '...</td>\n",
       "    </tr>\n",
       "    <tr>\n",
       "      <th>1</th>\n",
       "      <td>{'anchor': '../images/web\\cat\\persian1.jpg', '...</td>\n",
       "    </tr>\n",
       "    <tr>\n",
       "      <th>2</th>\n",
       "      <td>{'anchor': '../images/web\\cat\\persian1.jpg', '...</td>\n",
       "    </tr>\n",
       "    <tr>\n",
       "      <th>3</th>\n",
       "      <td>{'anchor': '../images/web\\cat\\persian1.jpg', '...</td>\n",
       "    </tr>\n",
       "    <tr>\n",
       "      <th>4</th>\n",
       "      <td>{'anchor': '../images/web\\cat\\persian1.jpg', '...</td>\n",
       "    </tr>\n",
       "    <tr>\n",
       "      <th>...</th>\n",
       "      <td>...</td>\n",
       "    </tr>\n",
       "    <tr>\n",
       "      <th>185</th>\n",
       "      <td>{'anchor': '../images/web\\vehicles\\car1.jpg', ...</td>\n",
       "    </tr>\n",
       "    <tr>\n",
       "      <th>186</th>\n",
       "      <td>{'anchor': '../images/web\\vehicles\\car1.jpg', ...</td>\n",
       "    </tr>\n",
       "    <tr>\n",
       "      <th>187</th>\n",
       "      <td>{'anchor': '../images/web\\vehicles\\car2.jpg', ...</td>\n",
       "    </tr>\n",
       "    <tr>\n",
       "      <th>188</th>\n",
       "      <td>{'anchor': '../images/web\\vehicles\\car2.jpg', ...</td>\n",
       "    </tr>\n",
       "    <tr>\n",
       "      <th>189</th>\n",
       "      <td>{'anchor': '../images/web\\vehicles\\motorcycle1...</td>\n",
       "    </tr>\n",
       "  </tbody>\n",
       "</table>\n",
       "<p>190 rows × 1 columns</p>\n",
       "</div>"
      ],
      "text/plain": [
       "                                                  data\n",
       "0    {'anchor': '../images/web\\cat\\persian1.jpg', '...\n",
       "1    {'anchor': '../images/web\\cat\\persian1.jpg', '...\n",
       "2    {'anchor': '../images/web\\cat\\persian1.jpg', '...\n",
       "3    {'anchor': '../images/web\\cat\\persian1.jpg', '...\n",
       "4    {'anchor': '../images/web\\cat\\persian1.jpg', '...\n",
       "..                                                 ...\n",
       "185  {'anchor': '../images/web\\vehicles\\car1.jpg', ...\n",
       "186  {'anchor': '../images/web\\vehicles\\car1.jpg', ...\n",
       "187  {'anchor': '../images/web\\vehicles\\car2.jpg', ...\n",
       "188  {'anchor': '../images/web\\vehicles\\car2.jpg', ...\n",
       "189  {'anchor': '../images/web\\vehicles\\motorcycle1...\n",
       "\n",
       "[190 rows x 1 columns]"
      ]
     },
     "execution_count": 10,
     "metadata": {},
     "output_type": "execute_result"
    }
   ],
   "source": [
    "df_img_pairs = pd.DataFrame(dict(data=img_pairs))\n",
    "df_img_pairs[\"temp\"] = df_img_pairs.data.apply(lambda x: \" \".join(sorted(list(x.values()))))\n",
    "df_img_pairs = df_img_pairs.drop_duplicates(subset=[\"temp\"]).reset_index(drop=True)\n",
    "df_img_pairs = df_img_pairs.drop(\"temp\", axis=1)\n",
    "\n",
    "df_img_pairs"
   ]
  },
  {
   "cell_type": "code",
   "execution_count": 11,
   "metadata": {},
   "outputs": [],
   "source": [
    "img_pairs = list(df_img_pairs.data.values)"
   ]
  },
  {
   "cell_type": "code",
   "execution_count": 11,
   "metadata": {},
   "outputs": [],
   "source": [
    "img_pairs_tags = [[d[\"anchor\"].split(\"\\\\\")[-1][:-4], d[\"pair\"].split(\"\\\\\")[-1][:-4], d[\"score\"]] for d in img_pairs]"
   ]
  },
  {
   "cell_type": "code",
   "execution_count": 15,
   "metadata": {},
   "outputs": [],
   "source": [
    "img_pairs_ = [dict(anchor=p[\"anchor\"][1:].replace(\"\\\\\",\"/\"), pair=p[\"pair\"][1:].replace(\"\\\\\", \"/\"), score=float(p[\"score\"])) for p in img_pairs]\n",
    "\n",
    "with open(\"image_pairs.json\", \"w\") as f:\n",
    "    json.dump(img_pairs_, f)"
   ]
  },
  {
   "cell_type": "code",
   "execution_count": null,
   "metadata": {},
   "outputs": [],
   "source": []
  }
 ],
 "metadata": {
  "kernelspec": {
   "display_name": "DL",
   "language": "python",
   "name": "python3"
  },
  "language_info": {
   "codemirror_mode": {
    "name": "ipython",
    "version": 3
   },
   "file_extension": ".py",
   "mimetype": "text/x-python",
   "name": "python",
   "nbconvert_exporter": "python",
   "pygments_lexer": "ipython3",
   "version": "3.9.12"
  },
  "orig_nbformat": 4
 },
 "nbformat": 4,
 "nbformat_minor": 2
}
